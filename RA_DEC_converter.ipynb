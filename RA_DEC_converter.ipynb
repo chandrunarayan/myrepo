{
  "nbformat": 4,
  "nbformat_minor": 0,
  "metadata": {
    "colab": {
      "name": "RA_DEC_converter.ipynb",
      "provenance": [],
      "collapsed_sections": [],
      "include_colab_link": true
    },
    "kernelspec": {
      "name": "python3",
      "display_name": "Python 3"
    }
  },
  "cells": [
    {
      "cell_type": "markdown",
      "metadata": {
        "id": "view-in-github",
        "colab_type": "text"
      },
      "source": [
        "<a href=\"https://colab.research.google.com/github/chandrunarayan/myrepo/blob/master/RA_DEC_converter.ipynb\" target=\"_parent\"><img src=\"https://colab.research.google.com/assets/colab-badge.svg\" alt=\"Open In Colab\"/></a>"
      ]
    },
    {
      "cell_type": "code",
      "metadata": {
        "id": "sAmt-mBvKiHy"
      },
      "source": [
        "#@title Convert Right Ascension (RA) and Declination (DE) to Degrees \n",
        "#@markdown Forms support many types of fields.\n",
        "\n",
        "ra_hour = 13  #@param {type: \"slider\", min: 0, max: 24}\n",
        "ra_minute = 47  #@param {type: \"slider\", min: 0, max: 60}\n",
        "ra_second = 32  #@param {type: \"slider\", min: 0.0, max: 60}\n",
        "dec_direction = \"North\"  #@param ['North', 'South']\n",
        "dec_degree = 49   #@param {type: \"slider\", min: 0, max: 180}\n",
        "dec_minute = 18  #@param {type: \"slider\", min: 0, max: 60}\n",
        "dec_second = 48   #@param {type: \"slider\", min: 0.0, max: 60}"
      ],
      "execution_count": null,
      "outputs": []
    },
    {
      "cell_type": "code",
      "metadata": {
        "id": "rp08xgV-ODQq",
        "colab": {
          "base_uri": "https://localhost:8080/",
          "height": 34
        },
        "outputId": "9af3aee6-8125-4244-cbc2-f4e0a60b8a5c"
      },
      "source": [
        "dec_sign = lambda x: 1.0 if x == \"North\" else -1.0\n",
        "print(ra_hour, ra_minute, ra_second, dec_direction, dec_sign(dec_direction), dec_degree, dec_minute, dec_second)\n"
      ],
      "execution_count": null,
      "outputs": [
        {
          "output_type": "stream",
          "text": [
            "13 47 32 North 1.0 49 18 48\n"
          ],
          "name": "stdout"
        }
      ]
    },
    {
      "cell_type": "code",
      "metadata": {
        "id": "JuPPpfh-Os4k",
        "colab": {
          "base_uri": "https://localhost:8080/",
          "height": 51
        },
        "outputId": "f18af2d4-06df-427c-d8ed-e6a2269feb75"
      },
      "source": [
        "## Constants for RA (Right Ascension) Calculation\n",
        "degrees_in_a_circle = 360\n",
        "hours_in_a_day = 24\n",
        "deg_per_houroftime = degrees_in_a_circle/hours_in_a_day\n",
        "deg_per_minutesoftime = deg_per_houroftime/60\n",
        "deg_per_secondsoftime = deg_per_minutesoftime/60\n",
        "\n",
        "## Constants for DE (Declination) Calculation\n",
        "min_per_degreeofangle = 60\n",
        "sec_per_minuteofangle = 60\n",
        "sec_per_degreeofangle = min_per_degreeofangle * sec_per_minuteofangle\n",
        "\n",
        "## Calculare RA (Right Ascension)and DE (Declination) in Degrees\n",
        "ra_deg = ra_hour*deg_per_houroftime + ra_minute*deg_per_minutesoftime + ra_second*deg_per_secondsoftime\n",
        "de_deg = dec_sign(dec_direction)*(dec_degree + dec_minute/sec_per_minuteofangle + dec_second/sec_per_degreeofangle)\n",
        "print(\"RA is: %3.4f\" % ra_deg)\n",
        "print(\"DE is: %3.4f\" % de_deg)"
      ],
      "execution_count": null,
      "outputs": [
        {
          "output_type": "stream",
          "text": [
            "RA is: 206.8833\n",
            "DE is: 49.3133\n"
          ],
          "name": "stdout"
        }
      ]
    }
  ]
}